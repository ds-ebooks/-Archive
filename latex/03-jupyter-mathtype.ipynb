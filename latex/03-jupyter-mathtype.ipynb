{
 "cells": [
  {
   "cell_type": "markdown",
   "metadata": {},
   "source": [
    "# 用jupyter编写数学公式"
   ]
  },
  {
   "cell_type": "markdown",
   "metadata": {
    "toc": true
   },
   "source": [
    "<h1>Contents<span class=\"tocSkip\"></span></h1>\n",
    "<div class=\"toc\"><ul class=\"toc-item\"><li><span><a href=\"#两种数学模式\" data-toc-modified-id=\"两种数学模式-1\"><span class=\"toc-item-num\">1&nbsp;&nbsp;</span>两种数学模式</a></span></li><li><span><a href=\"#空格\" data-toc-modified-id=\"空格-2\"><span class=\"toc-item-num\">2&nbsp;&nbsp;</span>空格</a></span></li><li><span><a href=\"#上标和下标\" data-toc-modified-id=\"上标和下标-3\"><span class=\"toc-item-num\">3&nbsp;&nbsp;</span>上标和下标</a></span></li><li><span><a href=\"#命令\" data-toc-modified-id=\"命令-4\"><span class=\"toc-item-num\">4&nbsp;&nbsp;</span>命令</a></span></li><li><span><a href=\"#符号\" data-toc-modified-id=\"符号-5\"><span class=\"toc-item-num\">5&nbsp;&nbsp;</span>符号</a></span></li><li><span><a href=\"#头标\" data-toc-modified-id=\"头标-6\"><span class=\"toc-item-num\">6&nbsp;&nbsp;</span>头标</a></span></li><li><span><a href=\"#括号\" data-toc-modified-id=\"括号-7\"><span class=\"toc-item-num\">7&nbsp;&nbsp;</span>括号</a></span></li><li><span><a href=\"#字体及其选项\" data-toc-modified-id=\"字体及其选项-8\"><span class=\"toc-item-num\">8&nbsp;&nbsp;</span>字体及其选项</a></span></li><li><span><a href=\"#转义字符'\\'\" data-toc-modified-id=\"转义字符'\\'-9\"><span class=\"toc-item-num\">9&nbsp;&nbsp;</span>转义字符'\\'</a></span></li><li><span><a href=\"#等式对齐\" data-toc-modified-id=\"等式对齐-10\"><span class=\"toc-item-num\">10&nbsp;&nbsp;</span>等式对齐</a></span></li><li><span><a href=\"#分段函数\" data-toc-modified-id=\"分段函数-11\"><span class=\"toc-item-num\">11&nbsp;&nbsp;</span>分段函数</a></span></li><li><span><a href=\"#一点总结\" data-toc-modified-id=\"一点总结-12\"><span class=\"toc-item-num\">12&nbsp;&nbsp;</span>一点总结</a></span></li><li><span><a href=\"#附录1：数学符号表\" data-toc-modified-id=\"附录1：数学符号表-13\"><span class=\"toc-item-num\">13&nbsp;&nbsp;</span>附录1：数学符号表</a></span></li><li><span><a href=\"#附录2：参考书籍\" data-toc-modified-id=\"附录2：参考书籍-14\"><span class=\"toc-item-num\">14&nbsp;&nbsp;</span>附录2：参考书籍</a></span></li></ul></div>"
   ]
  },
  {
   "cell_type": "markdown",
   "metadata": {},
   "source": [
    "## 两种数学模式"
   ]
  },
  {
   "cell_type": "markdown",
   "metadata": {},
   "source": [
    "直接切入正题，毕竟我是在用Jupyter，不是LaTex。。。"
   ]
  },
  {
   "cell_type": "markdown",
   "metadata": {},
   "source": [
    "```\n",
    "$P(A \\mid B) = \\frac{ P(B \\mid A) P(A) }{ P(B) }$\n",
    "```"
   ]
  },
  {
   "cell_type": "markdown",
   "metadata": {},
   "source": [
    " $P(A \\mid B) = \\frac{ P(B \\mid A) P(A) }{ P(B) }$"
   ]
  },
  {
   "cell_type": "markdown",
   "metadata": {},
   "source": [
    " ```\n",
    " 贝叶斯公式：$$P(A \\mid B) = \\frac{ P(B \\mid A) P(A) }{ P(B) }$$\n",
    " ```"
   ]
  },
  {
   "cell_type": "markdown",
   "metadata": {},
   "source": [
    " 贝叶斯公式：$$P(A \\mid B) = \\frac{ P(B \\mid A) P(A) }{ P(B) }$$"
   ]
  },
  {
   "cell_type": "markdown",
   "metadata": {},
   "source": [
    "## 空格"
   ]
  },
  {
   "cell_type": "markdown",
   "metadata": {},
   "source": [
    "```\n",
    "$$a\\quad\\a$$\n",
    "```"
   ]
  },
  {
   "cell_type": "markdown",
   "metadata": {},
   "source": [
    "$$a\\quad\\a$$"
   ]
  },
  {
   "cell_type": "markdown",
   "metadata": {},
   "source": [
    "注意这个空格很奇葩，后面非要紧跟字符，否则没有效果，~~另外，上一篇文章md是自动加空格的，写错了。~~"
   ]
  },
  {
   "cell_type": "markdown",
   "metadata": {},
   "source": [
    "在LaTeX中，符号之间的空格会被自动移除，通过 `\\`, 或 `\\:`或 `\\;`添加空格，其空格宽度分别为从小到大。"
   ]
  },
  {
   "cell_type": "markdown",
   "metadata": {},
   "source": [
    "`$$\\intf(x) \\; dx$$`"
   ]
  },
  {
   "cell_type": "markdown",
   "metadata": {},
   "source": [
    "$$\\int f(x) \\; dx$$"
   ]
  },
  {
   "cell_type": "markdown",
   "metadata": {},
   "source": [
    "## 上标和下标"
   ]
  },
  {
   "cell_type": "markdown",
   "metadata": {},
   "source": [
    "`$$x^2$$ `"
   ]
  },
  {
   "cell_type": "markdown",
   "metadata": {},
   "source": [
    "$$x^2$$ "
   ]
  },
  {
   "cell_type": "markdown",
   "metadata": {},
   "source": [
    "`$$e^2x$$ `"
   ]
  },
  {
   "cell_type": "markdown",
   "metadata": {},
   "source": [
    "$$e^2x$$ "
   ]
  },
  {
   "cell_type": "markdown",
   "metadata": {},
   "source": [
    "`$$e^{2x}$$`"
   ]
  },
  {
   "cell_type": "markdown",
   "metadata": {},
   "source": [
    "$$e^{2x}$$"
   ]
  },
  {
   "cell_type": "raw",
   "metadata": {},
   "source": [
    "`$$x_i$$`"
   ]
  },
  {
   "cell_type": "markdown",
   "metadata": {},
   "source": [
    " $$x_i$$"
   ]
  },
  {
   "cell_type": "raw",
   "metadata": {},
   "source": [
    "` $$_{10}C_5$$`"
   ]
  },
  {
   "cell_type": "markdown",
   "metadata": {},
   "source": [
    " $$_{10}C_5$$"
   ]
  },
  {
   "cell_type": "raw",
   "metadata": {},
   "source": [
    "`$$\\underset{k}{argmax}$$ `"
   ]
  },
  {
   "cell_type": "markdown",
   "metadata": {},
   "source": [
    "$$\\underset{k}{argmax}$$ "
   ]
  },
  {
   "cell_type": "markdown",
   "metadata": {},
   "source": [
    "## 命令"
   ]
  },
  {
   "cell_type": "markdown",
   "metadata": {},
   "source": [
    "特定的符号和形式通过命令进行编写，每一个命令以反斜杠开始，一个命令名紧随其后。比如说，创建一个平方根的表达式 `$ \\sqrt{2\\pi} $$` 显示为\n"
   ]
  },
  {
   "cell_type": "markdown",
   "metadata": {},
   "source": [
    "$$ \\sqrt{2\\pi} $$"
   ]
  },
  {
   "cell_type": "raw",
   "metadata": {},
   "source": [
    "`$$\\frac{a}{b}$$`"
   ]
  },
  {
   "cell_type": "markdown",
   "metadata": {},
   "source": [
    "$$\\frac{a}{b}$$"
   ]
  },
  {
   "cell_type": "markdown",
   "metadata": {},
   "source": [
    "## 符号"
   ]
  },
  {
   "cell_type": "raw",
   "metadata": {},
   "source": [
    "`$$\\alpha, \\beta, \\gamma$$`"
   ]
  },
  {
   "cell_type": "markdown",
   "metadata": {},
   "source": [
    "$$\\alpha, \\beta, \\gamma$$"
   ]
  },
  {
   "cell_type": "raw",
   "metadata": {},
   "source": [
    "`$$\\Phi, \\Lambda, \\Gamma$$`"
   ]
  },
  {
   "cell_type": "markdown",
   "metadata": {},
   "source": [
    "$$\\Phi, \\Lambda, \\Gamma$$"
   ]
  },
  {
   "cell_type": "raw",
   "metadata": {},
   "source": [
    "`$$\\times, \\pm, \\cup, \\oplus$$`"
   ]
  },
  {
   "cell_type": "markdown",
   "metadata": {},
   "source": [
    "$$\\times, \\pm, \\cup, \\oplus$$"
   ]
  },
  {
   "cell_type": "raw",
   "metadata": {},
   "source": [
    "`$$\\sin, \\cosh, \\arctan$$`"
   ]
  },
  {
   "cell_type": "markdown",
   "metadata": {},
   "source": [
    "$$\\sin, \\cosh, \\arctan$$"
   ]
  },
  {
   "cell_type": "raw",
   "metadata": {},
   "source": [
    "`$$\\leq, \\geq, \\approx, \\neq$$`"
   ]
  },
  {
   "cell_type": "markdown",
   "metadata": {},
   "source": [
    "$$\\leq, \\geq, \\approx, \\neq$$"
   ]
  },
  {
   "cell_type": "raw",
   "metadata": {},
   "source": [
    "`$$\\cdots, \\ldots, \\ddots$$`"
   ]
  },
  {
   "cell_type": "markdown",
   "metadata": {},
   "source": [
    "$$\\cdots, \\ldots, \\ddots$$"
   ]
  },
  {
   "cell_type": "raw",
   "metadata": {},
   "source": [
    "`$$\\infty, \\nabla, \\partial $$`"
   ]
  },
  {
   "cell_type": "markdown",
   "metadata": {},
   "source": [
    "$$\\infty, \\nabla, \\partial $$"
   ]
  },
  {
   "cell_type": "markdown",
   "metadata": {},
   "source": [
    "## 头标"
   ]
  },
  {
   "cell_type": "raw",
   "metadata": {},
   "source": [
    "`$$\\hat x$$`"
   ]
  },
  {
   "cell_type": "markdown",
   "metadata": {},
   "source": [
    "$$\\hat x$$"
   ]
  },
  {
   "cell_type": "raw",
   "metadata": {},
   "source": [
    " `$$\\widehat{abs}$$ `"
   ]
  },
  {
   "cell_type": "markdown",
   "metadata": {},
   "source": [
    " $$\\widehat{abs}$$ "
   ]
  },
  {
   "cell_type": "raw",
   "metadata": {},
   "source": [
    "`$$\\bar x $$`"
   ]
  },
  {
   "cell_type": "markdown",
   "metadata": {},
   "source": [
    "$$\\bar x $$"
   ]
  },
  {
   "cell_type": "raw",
   "metadata": {},
   "source": [
    "`$$\\overline{abs}$$`"
   ]
  },
  {
   "cell_type": "markdown",
   "metadata": {},
   "source": [
    "$$\\overline{abs}$$"
   ]
  },
  {
   "cell_type": "raw",
   "metadata": {},
   "source": [
    "`$$\\dot x\\quad\\ddot x $$`"
   ]
  },
  {
   "cell_type": "markdown",
   "metadata": {},
   "source": [
    "$$\\dot x\\quad\\ddot x $$"
   ]
  },
  {
   "cell_type": "raw",
   "metadata": {},
   "source": [
    " `$$\\vec{x}, \\overrightarrow{AB}$$`"
   ]
  },
  {
   "cell_type": "markdown",
   "metadata": {},
   "source": [
    " $$\\vec{x}, \\overrightarrow{AB}$$"
   ]
  },
  {
   "cell_type": "markdown",
   "metadata": {},
   "source": [
    "## 括号"
   ]
  },
  {
   "cell_type": "raw",
   "metadata": {},
   "source": [
    "`$$z=(\\frac{dx}{dy})^{1/3}$$`"
   ]
  },
  {
   "cell_type": "markdown",
   "metadata": {},
   "source": [
    "$$z=(\\frac{dx}{dy})^{1/3}$$"
   ]
  },
  {
   "cell_type": "raw",
   "metadata": {},
   "source": [
    "`$$z=\\left(\\frac{dx}{dy}\\right)^{1/3}$$ `"
   ]
  },
  {
   "cell_type": "markdown",
   "metadata": {},
   "source": [
    "$$z=\\left(\\frac{dx}{dy}\\right)^{1/3}$$ "
   ]
  },
  {
   "cell_type": "raw",
   "metadata": {},
   "source": [
    "`$$ {\\langle} {\\phi} \\mid {\\psi} {\\rangle} $$ `"
   ]
  },
  {
   "cell_type": "markdown",
   "metadata": {},
   "source": [
    "$$ {\\langle} {\\phi} \\mid {\\psi} {\\rangle} $$ "
   ]
  },
  {
   "cell_type": "raw",
   "metadata": {},
   "source": [
    "`$$ {\\langle} {\\phi} \\vert {\\psi} {\\rangle} $$ `"
   ]
  },
  {
   "cell_type": "markdown",
   "metadata": {},
   "source": [
    "$$ {\\langle} {\\phi} \\vert {\\psi} {\\rangle} $$ "
   ]
  },
  {
   "cell_type": "raw",
   "metadata": {},
   "source": [
    "`$$\\left[\\begin{matrix}a & b \\cr c & d\\end{matrix}\\right]$$`"
   ]
  },
  {
   "cell_type": "markdown",
   "metadata": {},
   "source": [
    "$$\\left[\\begin{matrix}a & b \\cr c & d\\end{matrix}\\right]$$"
   ]
  },
  {
   "cell_type": "raw",
   "metadata": {},
   "source": [
    "`$$\\left\\lgroup\\begin{matrix}a & b \\cr c & d\\end{matrix}\\right\\rgroup$$`"
   ]
  },
  {
   "cell_type": "markdown",
   "metadata": {},
   "source": [
    "$$\\left\\lgroup\\begin{matrix}a & b \\cr c & d\\end{matrix}\\right\\rgroup$$"
   ]
  },
  {
   "cell_type": "markdown",
   "metadata": {},
   "source": [
    "## 字体及其选项"
   ]
  },
  {
   "cell_type": "code",
   "execution_count": 13,
   "metadata": {},
   "outputs": [],
   "source": [
    "# 非斜体罗马文本\n",
    "# 使用 \\textrm{abcdefghijklmn123456}\n",
    "# 或者 \\rm{abcdefghijklmn123456}"
   ]
  },
  {
   "cell_type": "markdown",
   "metadata": {},
   "source": [
    "$$\\textrm{abcdefghijklmn123456}$$"
   ]
  },
  {
   "cell_type": "code",
   "execution_count": 14,
   "metadata": {},
   "outputs": [],
   "source": [
    "# 斜体字母 \\mathit{abcdefghijklmn123456} "
   ]
  },
  {
   "cell_type": "markdown",
   "metadata": {},
   "source": [
    "$$\\mathit{abcdefghijklmn123456}$$"
   ]
  },
  {
   "cell_type": "code",
   "execution_count": null,
   "metadata": {},
   "outputs": [],
   "source": [
    "# Boldsymbol 字体加粗 \\boldsymbol{A\\cdot x}=\\lambda\\cdot v"
   ]
  },
  {
   "cell_type": "markdown",
   "metadata": {},
   "source": [
    "$$\\boldsymbol{A\\cdot x}=\\lambda\\cdot v$$"
   ]
  },
  {
   "cell_type": "markdown",
   "metadata": {},
   "source": [
    "## 转义字符'\\'"
   ]
  },
  {
   "cell_type": "markdown",
   "metadata": {},
   "source": [
    "## 等式对齐\n",
    "通过 \\\\ 断开两个或多个等式，可实现等式中部对齐，例如："
   ]
  },
  {
   "cell_type": "raw",
   "metadata": {},
   "source": [
    "```\n",
    "$$\n",
    "a_1=b_1+c_1 \\\\\n",
    "a_2=b_2+c_2+d_2 \\\\\n",
    "a_3=b_3+c_3\n",
    "$$\n",
    "```"
   ]
  },
  {
   "cell_type": "markdown",
   "metadata": {},
   "source": [
    "$$\n",
    "a_1=b_1+c_1 \\\\\n",
    "a_2=b_2+c_2+d_2 \\\\\n",
    "a_3=b_3+c_3\n",
    "$$"
   ]
  },
  {
   "cell_type": "raw",
   "metadata": {},
   "source": [
    "左对齐：\n",
    "```\n",
    "$$\\begin{aligned}\n",
    "a_1&=b_1+c_1 \\\\\n",
    "a_2&=b_2+c_2+d_2 \\\\\n",
    "a_3&=b_3+c_3\n",
    "\\end{aligned}$$\n",
    "```"
   ]
  },
  {
   "cell_type": "markdown",
   "metadata": {},
   "source": [
    "$$\\begin{aligned}\n",
    "a_1&=b_1+c_1 \\\\\n",
    "a_2&=b_2+c_2+d_2 \\\\\n",
    "a_3&=b_3+c_3\n",
    "\\end{aligned}$$"
   ]
  },
  {
   "cell_type": "markdown",
   "metadata": {},
   "source": [
    "## 分段函数"
   ]
  },
  {
   "cell_type": "raw",
   "metadata": {},
   "source": [
    "\n",
    "```\n",
    "$$\n",
    "sign(x)=\n",
    "\\begin{cases}\n",
    "1,&x>0 \\\\ \n",
    "0,&x=0 \\\\\n",
    "-1,&x<0\n",
    "\\end{cases}\n",
    "$$\n",
    "```"
   ]
  },
  {
   "cell_type": "markdown",
   "metadata": {},
   "source": [
    "$$\n",
    "sign(x)=\n",
    "\\begin{cases}\n",
    "1,&x>0 \\\\ \n",
    "0,&x=0 \\\\\n",
    "-1,&x<0\n",
    "\\end{cases}\n",
    "$$"
   ]
  },
  {
   "cell_type": "markdown",
   "metadata": {},
   "source": [
    "`\\\\ 等价于 \\cr，表示换行到新的 case。`"
   ]
  },
  {
   "cell_type": "markdown",
   "metadata": {},
   "source": [
    "## 一点总结"
   ]
  },
  {
   "cell_type": "raw",
   "metadata": {},
   "source": [
    "`$$\\sqrt[3]{a}$$`"
   ]
  },
  {
   "cell_type": "markdown",
   "metadata": {},
   "source": [
    "$$\\sqrt[3]{a}$$"
   ]
  },
  {
   "cell_type": "raw",
   "metadata": {},
   "source": [
    "`$$\\overline{m+n}$$`"
   ]
  },
  {
   "cell_type": "markdown",
   "metadata": {},
   "source": [
    "$$\\overline{m+n}$$"
   ]
  },
  {
   "cell_type": "raw",
   "metadata": {},
   "source": [
    "`$$\\underline {m+n}$$`"
   ]
  },
  {
   "cell_type": "markdown",
   "metadata": {},
   "source": [
    "$$\\underline {m+n}$$"
   ]
  },
  {
   "cell_type": "markdown",
   "metadata": {},
   "source": [
    "不知道为啥这个下划线需要加空格，否则报错。。。关于md和LaTex对于空格方面都是忽略，不同的是md会保留一个空格。\n",
    "\n",
    "所以以后书写数学公式关键命令及语法前面还是要加空格，正如md标准语法中，每一种格式的结束都需要空一行，表示此语法格式结束，虽然有些md编辑器会容下这些细小的错误，但为保证统一，我们还是使用标准格式比较好。"
   ]
  },
  {
   "cell_type": "raw",
   "metadata": {},
   "source": [
    "`$$\\underbrace{a+b+\\cdots+j}_{10}$$`"
   ]
  },
  {
   "cell_type": "markdown",
   "metadata": {},
   "source": [
    "$$\\underbrace{a+b+\\cdots+j}_{10}$$"
   ]
  },
  {
   "cell_type": "raw",
   "metadata": {},
   "source": [
    "`$$\\overbrace{a+b+\\cdots+j}^{10}$$`"
   ]
  },
  {
   "cell_type": "markdown",
   "metadata": {},
   "source": [
    "$$\\overbrace{a+b+\\cdots+j}^{10}$$"
   ]
  },
  {
   "cell_type": "raw",
   "metadata": {},
   "source": [
    "`$$\\vec{AB}$$`"
   ]
  },
  {
   "cell_type": "markdown",
   "metadata": {},
   "source": [
    "$$\\vec{AB}$$"
   ]
  },
  {
   "cell_type": "raw",
   "metadata": {},
   "source": [
    "`$$\\overrightarrow{AB}$$`"
   ]
  },
  {
   "cell_type": "markdown",
   "metadata": {},
   "source": [
    "$$\\overrightarrow{AB}$$"
   ]
  },
  {
   "cell_type": "raw",
   "metadata": {},
   "source": [
    "`$$\\overleftarrow {AB}$$`"
   ]
  },
  {
   "cell_type": "markdown",
   "metadata": {},
   "source": [
    "$$\\overleftarrow {AB}$$"
   ]
  },
  {
   "cell_type": "raw",
   "metadata": {},
   "source": [
    "`$$\\frac{-b\\pm\\sqrt{b^2-4ac}}{2a}$$`"
   ]
  },
  {
   "cell_type": "markdown",
   "metadata": {},
   "source": [
    "$$\\frac{-b\\pm\\sqrt{b^2-4ac}}{2a}$$"
   ]
  },
  {
   "cell_type": "raw",
   "metadata": {},
   "source": [
    "`$$\\int_{0}^{\\pi}{\\tan x}$$`"
   ]
  },
  {
   "cell_type": "markdown",
   "metadata": {},
   "source": [
    "$$\\int_{0}^{\\pi}{\\tan x}$$"
   ]
  },
  {
   "cell_type": "raw",
   "metadata": {},
   "source": [
    "` $$\\sum_{i=0}^{n}{i}$$`"
   ]
  },
  {
   "cell_type": "markdown",
   "metadata": {},
   "source": [
    " $$\\sum_{i=0}^{n}{i}$$"
   ]
  },
  {
   "cell_type": "raw",
   "metadata": {},
   "source": [
    "`$$\\prod_{i=1}^{9}{i}$$`"
   ]
  },
  {
   "cell_type": "markdown",
   "metadata": {},
   "source": [
    "$$\\prod_{i=1}^{9}{i}$$"
   ]
  },
  {
   "cell_type": "markdown",
   "metadata": {},
   "source": [
    "## 附录1：数学符号表"
   ]
  },
  {
   "cell_type": "markdown",
   "metadata": {},
   "source": [
    "> 要经常查看\n",
    "\n",
    "![image](https://upload-images.jianshu.io/upload_images/5798456-33a39b68d3d2825d.png)"
   ]
  },
  {
   "cell_type": "markdown",
   "metadata": {},
   "source": [
    "## 附录2：参考书籍"
   ]
  },
  {
   "cell_type": "markdown",
   "metadata": {},
   "source": [
    "* 不错的参考资料：[LaTeX_Docs](LaTeX_Docs/)\n",
    "* 了解LaTex的博客：[LaTeX 入门文档](https://liam0205.me/2014/09/08/latex-introduction/)"
   ]
  }
 ],
 "metadata": {
  "kernelspec": {
   "display_name": "Python 2",
   "language": "python",
   "name": "python2"
  },
  "language_info": {
   "codemirror_mode": {
    "name": "ipython",
    "version": 2
   },
   "file_extension": ".py",
   "mimetype": "text/x-python",
   "name": "python",
   "nbconvert_exporter": "python",
   "pygments_lexer": "ipython2",
   "version": "2.7.13"
  },
  "latex_envs": {
   "LaTeX_envs_menu_present": true,
   "autoclose": false,
   "autocomplete": true,
   "bibliofile": "biblio.bib",
   "cite_by": "apalike",
   "current_citInitial": 1,
   "eqLabelWithNumbers": true,
   "eqNumInitial": 1,
   "hotkeys": {
    "equation": "Ctrl-E",
    "itemize": "Ctrl-I"
   },
   "labels_anchors": false,
   "latex_user_defs": false,
   "report_style_numbering": false,
   "user_envs_cfg": false
  },
  "toc": {
   "base_numbering": 1,
   "nav_menu": {},
   "number_sections": true,
   "sideBar": true,
   "skip_h1_title": true,
   "title_cell": "Contents",
   "title_sidebar": "Contents",
   "toc_cell": true,
   "toc_position": {
    "height": "calc(100% - 180px)",
    "left": "10px",
    "top": "150px",
    "width": "166px"
   },
   "toc_section_display": true,
   "toc_window_display": false
  }
 },
 "nbformat": 4,
 "nbformat_minor": 2
}
